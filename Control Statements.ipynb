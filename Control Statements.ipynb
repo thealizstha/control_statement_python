{
 "cells": [
  {
   "cell_type": "code",
   "execution_count": 1,
   "id": "978cc6ac",
   "metadata": {},
   "outputs": [],
   "source": [
    "#break, continue, pass"
   ]
  },
  {
   "cell_type": "code",
   "execution_count": 2,
   "id": "2e94b526",
   "metadata": {},
   "outputs": [
    {
     "name": "stdout",
     "output_type": "stream",
     "text": [
      "0\n",
      "1\n",
      "2\n",
      "3\n",
      "4\n"
     ]
    }
   ],
   "source": [
    "#break statement\n",
    "for i in range(10):\n",
    "    if i == 5:\n",
    "        break\n",
    "    print(i)    "
   ]
  },
  {
   "cell_type": "code",
   "execution_count": 3,
   "id": "b878c0d9",
   "metadata": {},
   "outputs": [
    {
     "name": "stdout",
     "output_type": "stream",
     "text": [
      "0\n",
      "1\n",
      "2\n",
      "3\n",
      "4\n",
      "6\n",
      "7\n",
      "8\n",
      "9\n"
     ]
    }
   ],
   "source": [
    "#continue statement\n",
    "for i in range(10):\n",
    "    if i == 5:\n",
    "        continue\n",
    "    print(i)"
   ]
  },
  {
   "cell_type": "code",
   "execution_count": 5,
   "id": "03186cb4",
   "metadata": {},
   "outputs": [
    {
     "name": "stdout",
     "output_type": "stream",
     "text": [
      "H e l l o   W o r l d "
     ]
    }
   ],
   "source": [
    "a = \"Hello World. I am Python\"\n",
    "for i in a:\n",
    "    if i == \".\":\n",
    "        break\n",
    "    print(i, end = \" \" )    "
   ]
  },
  {
   "cell_type": "code",
   "execution_count": 9,
   "id": "0a8f6175",
   "metadata": {},
   "outputs": [
    {
     "name": "stdout",
     "output_type": "stream",
     "text": [
      "H e l l o W o r l d "
     ]
    }
   ],
   "source": [
    "a = \"Hello.World\"\n",
    "for i in a:\n",
    "    if i == \".\":\n",
    "        continue\n",
    "    print(i, end = \" \")"
   ]
  },
  {
   "cell_type": "code",
   "execution_count": 10,
   "id": "4283e0b3",
   "metadata": {},
   "outputs": [],
   "source": [
    "#pass statement \n",
    "#pass tell python to skip this line and do nothing\n",
    "a = 3\n",
    "if a>3:\n",
    "    pass"
   ]
  },
  {
   "cell_type": "code",
   "execution_count": 12,
   "id": "34290fd8",
   "metadata": {},
   "outputs": [],
   "source": [
    "for i in range(5):\n",
    "    pass"
   ]
  },
  {
   "cell_type": "code",
   "execution_count": null,
   "id": "8bd1b555",
   "metadata": {},
   "outputs": [],
   "source": [
    "#control statements in while loop\n",
    "a = 0\n",
    "while a<5:\n",
    "    if a==3:\n",
    "        break\n",
    "    print(a) \n",
    "    a=a+1"
   ]
  },
  {
   "cell_type": "code",
   "execution_count": 6,
   "id": "c9290524",
   "metadata": {},
   "outputs": [
    {
     "name": "stdout",
     "output_type": "stream",
     "text": [
      "Enter number = 4\n",
      "4 is a composite number\n"
     ]
    }
   ],
   "source": [
    "#WAP to detect if the given no from user is prime or composite\n",
    "#prime = 2,3,5,7,11,13\n",
    "#composite = 4,6,8,9,10\n",
    "n = int(input(\"Enter number = \"))\n",
    "if n == 1:\n",
    "    print(\"It is neither prime nor composite \")\n",
    "if n == 2:\n",
    "    print(\"It is prime number\")\n",
    "for i in range(2,n):\n",
    "    if n%i == 0:\n",
    "         print(n, \"is a composite number\")\n",
    "         break   \n",
    "    else:\n",
    "        print(n,\"is prime number\")"
   ]
  },
  {
   "cell_type": "code",
   "execution_count": null,
   "id": "aa5679d4",
   "metadata": {},
   "outputs": [],
   "source": []
  }
 ],
 "metadata": {
  "kernelspec": {
   "display_name": "Python 3 (ipykernel)",
   "language": "python",
   "name": "python3"
  },
  "language_info": {
   "codemirror_mode": {
    "name": "ipython",
    "version": 3
   },
   "file_extension": ".py",
   "mimetype": "text/x-python",
   "name": "python",
   "nbconvert_exporter": "python",
   "pygments_lexer": "ipython3",
   "version": "3.9.13"
  }
 },
 "nbformat": 4,
 "nbformat_minor": 5
}
